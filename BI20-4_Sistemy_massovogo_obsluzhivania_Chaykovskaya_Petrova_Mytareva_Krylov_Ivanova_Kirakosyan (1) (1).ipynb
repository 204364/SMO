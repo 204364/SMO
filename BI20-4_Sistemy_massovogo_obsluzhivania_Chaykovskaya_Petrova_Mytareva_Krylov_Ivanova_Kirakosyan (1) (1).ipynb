{
 "cells": [
  {
   "cell_type": "markdown",
   "id": "81a1bdc2",
   "metadata": {},
   "source": [
    "# ТЗ № 8: Системы массового обслуживания. БИ20-4, Чайковская, Петрова, Мытарева, Крылов, Иванова, Киракосян"
   ]
  },
  {
   "cell_type": "markdown",
   "id": "4097058a",
   "metadata": {},
   "source": [
    "Рассмотрим конкретный кейс из жизни: одним из тех мест, куда студенты Финансового университета, расположенного на Рязанском проспекте, ходят на обед является магазин «ВкусВилл». Необходимо определить, сколько касс потребуется, чтобы обслужить поток клиентов.\n",
    "\n",
    "Количество касс в магазине: 5 шт.\n",
    "Максимальная длина очереди, приемлемая для покупателя: 10 человек\n"
   ]
  },
  {
   "cell_type": "code",
   "execution_count": 130,
   "id": "44ad9ca7",
   "metadata": {},
   "outputs": [
    {
     "name": "stdout",
     "output_type": "stream",
     "text": [
      "Интенсивность входного потока:  [0.5, 1.5, 0.9]\n",
      "Интенсивность выходного потока:  [0.5        0.2        0.33333333]\n",
      "Показатель нагруженности:  [1.0, 7.5, 2.7]\n"
     ]
    }
   ],
   "source": [
    "import numpy as np\n",
    "import math\n",
    "\n",
    "N = [5, 15, 9] #количество посетителей утром, днем и вечером\n",
    "prom = [10, 10, 10] #анализируемый временной промежуток\n",
    "\n",
    "intense = [] \n",
    "for n in range(len(prom)):\n",
    "   intense.append(N[n]/prom[n])\n",
    "print('Интенсивность входного потока: ', intense)\n",
    "\n",
    "t = np.array([2, 5, 3]) #время обслуживания одного клиента\n",
    "intense1 = 1/t\n",
    "print ('Интенсивность выходного потока: ', intense1) \n",
    " \n",
    "ro = [] #показатель нагруженности\n",
    "for i in range(len(intense1)):\n",
    "   ro.append(intense[i]/intense1[i])\n",
    "print('Показатель нагруженности: ', ro)\n",
    "\n",
    "n = 5 #количество касс\n",
    "m = 10 #количество человек"
   ]
  },
  {
   "cell_type": "code",
   "execution_count": 141,
   "id": "5df34b91",
   "metadata": {},
   "outputs": [
    {
     "name": "stdout",
     "output_type": "stream",
     "text": [
      "Вспомогательный массив утра:  [1.0, 1.0, 0.5, 0.16666666666666666, 0.041666666666666664, 0.008333333333333333, 0.0016666666666666668, 0.0003333333333333333, 6.666666666666667e-05, 1.3333333333333333e-05, 2.666666666666667e-06, 5.333333333333333e-07, 1.0666666666666667e-07, 2.1333333333333332e-08, 4.266666666666667e-09]\n"
     ]
    }
   ],
   "source": [
    "vsp = [] \n",
    "for l in range(0,5):\n",
    "   vsp.append(ro[0]**l/math.factorial(l))\n",
    "\n",
    "vs_p = [] \n",
    "for l in range (5, 15):\n",
    "   vs_p.append(ro[0]**l/(n**(l-n)*math.factorial(n)))\n",
    "\n",
    "vspomog = vsp + vs_p\n",
    "print('Вспомогательный массив утра: ', vspomog)"
   ]
  },
  {
   "cell_type": "code",
   "execution_count": 143,
   "id": "be9bfebf",
   "metadata": {},
   "outputs": [
    {
     "name": "stdout",
     "output_type": "stream",
     "text": [
      "Вспомогательный массив дня:  [1.0, 7.5, 28.125, 70.3125, 131.8359375, 197.75390625, 296.630859375, 444.9462890625, 667.41943359375, 1001.129150390625, 1501.6937255859375, 2252.5405883789062, 3378.8108825683594, 5068.216323852539, 7602.324485778809]\n"
     ]
    }
   ],
   "source": [
    "vsp1 = [] \n",
    "for l in range(0,5):\n",
    "   vsp1.append(ro[1]**l/math.factorial(l))\n",
    "\n",
    "vs_p1 = [] \n",
    "for l in range (5, 15):\n",
    "   vs_p1.append(ro[1]**l/(n**(l-n)*math.factorial(n)))\n",
    "\n",
    "vspomog1 = vsp1 + vs_p1\n",
    "print('Вспомогательный массив дня: ', vspomog1)"
   ]
  },
  {
   "cell_type": "code",
   "execution_count": 145,
   "id": "9fb737f2",
   "metadata": {},
   "outputs": [
    {
     "name": "stdout",
     "output_type": "stream",
     "text": [
      "Вспомогательный массив дня:  [1.0, 2.7, 3.6450000000000005, 3.2805000000000004, 2.2143375000000005, 1.1957422500000006, 0.6457008150000002, 0.34867844010000015, 0.1882863576540001, 0.10167463313316005, 0.05490430189190644, 0.029648323021629477, 0.01601009443167992, 0.008645450993107156, 0.004668543536277866]\n"
     ]
    }
   ],
   "source": [
    "vsp2 = [] \n",
    "for l in range(0,5):\n",
    "   vsp2.append(ro[2]**l/math.factorial(l))\n",
    "\n",
    "vs_p2 = [] \n",
    "for l in range (5, 15):\n",
    "   vs_p2.append(ro[2]**l/(n**(l-n)*math.factorial(n)))\n",
    "\n",
    "vspomog2 = vsp2 + vs_p2\n",
    "print('Вспомогательный массив вечера: ', vspomog2)"
   ]
  },
  {
   "cell_type": "code",
   "execution_count": 146,
   "id": "5ad65357",
   "metadata": {},
   "outputs": [
    {
     "name": "stdout",
     "output_type": "stream",
     "text": [
      "Вероятности по состоянию на утро:  [36.7816092098331, 36.7816092098331, 18.39080460491655, 6.13026820163885, 1.5325670504097124, 0.3065134100819425, 0.061302682016388506, 0.0122605364032777, 0.0024521072806555403, 0.000490421456131108, 9.808429122622161e-05, 1.961685824524432e-05, 3.923371649048864e-06, 7.846743298097727e-07, 1.5693486596195457e-07]\n"
     ]
    }
   ],
   "source": [
    "ver = []\n",
    "v = (sum(vspomog)**-1)*100\n",
    "ver.append(v)\n",
    "for y in range (1, len(vspomog)):\n",
    "    ver.append(vspomog[y]*v)\n",
    "print('Вероятности по состоянию на утро: ', ver)"
   ]
  },
  {
   "cell_type": "code",
   "execution_count": 148,
   "id": "fc33003c",
   "metadata": {},
   "outputs": [
    {
     "name": "stdout",
     "output_type": "stream",
     "text": [
      "Вероятности по состоянию на день:  [0.0044149644353195395, 0.03311223326489655, 0.12417087474336205, 0.31042718685840515, 0.5820509753595096, 0.8730764630392644, 1.3096146945588967, 1.964422041838345, 2.9466330627575172, 4.419949594136276, 6.629924391204414, 9.944886586806621, 14.917329880209932, 22.375994820314897, 33.563992230472344]\n"
     ]
    }
   ],
   "source": [
    "ver1 = []\n",
    "v1 = (sum(vspomog1)**-1)*100\n",
    "ver1.append(v1)\n",
    "for y1 in range (1, len(vspomog)):\n",
    "    ver1.append(vspomog1[y1]*v1)\n",
    "print('Вероятности по состоянию на день: ', ver1)"
   ]
  },
  {
   "cell_type": "code",
   "execution_count": 150,
   "id": "a9f8b97d",
   "metadata": {},
   "outputs": [
    {
     "name": "stdout",
     "output_type": "stream",
     "text": [
      "Вероятности по состоянию на вечер:  [6.479287104821767, 17.494075183018772, 23.617001497075343, 21.25530134736781, 14.347328409473272, 7.747557341115568, 4.183680964202407, 2.2591877206692996, 1.219961369161422, 0.6587791393471679, 0.35574073524747074, 0.19209999703363417, 0.10373399839816247, 0.056016359135007736, 0.030248833932904184]\n"
     ]
    }
   ],
   "source": [
    "ver2 = []\n",
    "v2 = (sum(vspomog2)**-1)*100\n",
    "ver2.append(v2)\n",
    "for y2 in range (1, len(vspomog2)):\n",
    "    ver2.append(vspomog2[y2]*v2)\n",
    "print('Вероятности по состоянию на вечер: ', ver2) "
   ]
  },
  {
   "cell_type": "code",
   "execution_count": 147,
   "id": "de3c2876",
   "metadata": {},
   "outputs": [
    {
     "name": "stdout",
     "output_type": "stream",
     "text": [
      "Состояние системы утром\n"
     ]
    },
    {
     "data": {
      "image/png": "[encoded data removed]",
      "text/plain": [
       "<Figure size 432x288 with 1 Axes>"
      ]
     },
     "metadata": {
      "needs_background": "light"
     },
     "output_type": "display_data"
    }
   ],
   "source": [
    "print ('Состояние системы утром')\n",
    "import matplotlib.pyplot as plt\n",
    "fig = plt.figure()\n",
    "ax = fig.add_axes([0,0,1,1])\n",
    "langs = ['0', '1', '2', '3', '4', '5', '6', '7', '8', '9', '10', '11', '12', '13', '14']\n",
    "ax.bar(langs, ver)\n",
    "plt.show()"
   ]
  },
  {
   "cell_type": "code",
   "execution_count": 149,
   "id": "1e58fd45",
   "metadata": {},
   "outputs": [
    {
     "name": "stdout",
     "output_type": "stream",
     "text": [
      "Состояние системы днем\n"
     ]
    },
    {
     "data": {
      "image/png": "[encoded data removed]",
      "text/plain": [
       "<Figure size 432x288 with 1 Axes>"
      ]
     },
     "metadata": {
      "needs_background": "light"
     },
     "output_type": "display_data"
    }
   ],
   "source": [
    "print ('Состояние системы днем')\n",
    "fig = plt.figure()\n",
    "ax = fig.add_axes([0,0,1,1])\n",
    "langs = ['0', '1', '2', '3', '4', '5', '6', '7', '8', '9', '10', '11', '12', '13', '14']\n",
    "ax.bar(langs, ver1)\n",
    "plt.show()"
   ]
  },
  {
   "cell_type": "code",
   "execution_count": 151,
   "id": "bf413ab3",
   "metadata": {},
   "outputs": [
    {
     "name": "stdout",
     "output_type": "stream",
     "text": [
      "Состояние системы вечером\n"
     ]
    },
    {
     "data": {
      "image/png": "[encoded data removed]",
      "text/plain": [
       "<Figure size 432x288 with 1 Axes>"
      ]
     },
     "metadata": {
      "needs_background": "light"
     },
     "output_type": "display_data"
    }
   ],
   "source": [
    "print ('Состояние системы вечером')\n",
    "fig = plt.figure()\n",
    "ax = fig.add_axes([0,0,1,1])\n",
    "langs = ['0', '1', '2', '3', '4', '5', '6', '7', '8', '9', '10', '11', '12', '13', '14']\n",
    "ax.bar(langs, ver2)\n",
    "plt.show()"
   ]
  },
  {
   "cell_type": "markdown",
   "id": "5c8f4692",
   "metadata": {},
   "source": [
    "## Характеристики для клиента"
   ]
  },
  {
   "cell_type": "code",
   "execution_count": 161,
   "id": "a88c3e27",
   "metadata": {},
   "outputs": [
    {
     "name": "stdout",
     "output_type": "stream",
     "text": [
      "Характеристики для клиента\n",
      "Вероятность отказа в обслуживании утром:  1.5693486596195457e-07\n",
      "Вероятность отказа в обслуживании днем:  33.563992230472344\n",
      "Вероятность отказа в обслуживании вечером:  0.030248833932904184\n"
     ]
    }
   ],
   "source": [
    "print ('Вероятность отказа в обслуживании утром: ', ver[14])\n",
    "print ('Вероятность отказа в обслуживании днем: ', ver1[14])\n",
    "print ('Вероятность отказа в обслуживании вечером: ', ver2[14])"
   ]
  },
  {
   "cell_type": "code",
   "execution_count": 208,
   "id": "ef76b01f",
   "metadata": {},
   "outputs": [
    {
     "name": "stdout",
     "output_type": "stream",
     "text": [
      "Вероятность встать в очередь утром:  0.3831415664338456\n",
      "Вероятность встать в очередь днем:  65.38183153486617\n",
      "Вероятность встать в очередь вечером:  16.776757624310136\n"
     ]
    }
   ],
   "source": [
    "print ('Вероятность встать в очередь утром: ', sum(ver[5:14]))\n",
    "print ('Вероятность встать в очередь днем: ', sum(ver1[5:14]))\n",
    "print ('Вероятность встать в очередь вечером: ', sum(ver2[5:14]))"
   ]
  },
  {
   "cell_type": "markdown",
   "id": "2e36251d",
   "metadata": {},
   "source": [
    "## Характеристики для владельца"
   ]
  },
  {
   "cell_type": "code",
   "execution_count": 206,
   "id": "d65f9e5e",
   "metadata": {},
   "outputs": [
    {
     "name": "stdout",
     "output_type": "stream",
     "text": [
      "Абсолютная пропускная способность утром:  0.499999921532567\n",
      "Абсолютная пропускная способность днем:  0.9965401165429147\n",
      "Абсолютная пропускная способность вечером:  0.8727760494603862\n"
     ]
    }
   ],
   "source": [
    "print('Абсолютная пропускная способность утром: ', intense[0]*(1-ver[14]))\n",
    "print('Абсолютная пропускная способность днем: ', intense[1]*(1-ver1[14]/100))\n",
    "print('Абсолютная пропускная способность вечером: ', intense[2]*(1-ver2[14]))"
   ]
  },
  {
   "cell_type": "code",
   "execution_count": 207,
   "id": "bd09e499",
   "metadata": {},
   "outputs": [
    {
     "name": "stdout",
     "output_type": "stream",
     "text": [
      "Относительная пропускная способность утром:  0.999999843065134\n",
      "Относительная пропускная способность днем:  -32.563992230472344\n",
      "Относительная пропускная способность вечером:  0.9697511660670958\n"
     ]
    }
   ],
   "source": [
    "print('Относительная пропускная способность утром: ', 1-ver[14])\n",
    "print('Относительная пропускная способность днем: ', 1-ver1[14])\n",
    "print('Относительная пропускная способность вечером: ', 1-ver2[14])"
   ]
  },
  {
   "cell_type": "code",
   "execution_count": 211,
   "id": "f476044b",
   "metadata": {},
   "outputs": [
    {
     "name": "stdout",
     "output_type": "stream",
     "text": [
      "Среднее колчество занятых касс утром:  0.999999843065134\n",
      "Среднее количество занятых касс днем:  4.982700582714574\n",
      "Среднее количество занятых касс вечером:  2.618328148381159\n"
     ]
    }
   ],
   "source": [
    "print('Среднее колчество занятых касс утром: ', intense[0]*(1-ver[14])/intense1[0])\n",
    "print('Среднее количество занятых касс днем: ', intense[1]*(1-ver1[14]/100)/intense1[1])\n",
    "print('Среднее количество занятых касс вечером: ', intense[2]*(1-ver2[14])/intense1[2])"
   ]
  },
  {
   "cell_type": "code",
   "execution_count": 219,
   "id": "9203518a",
   "metadata": {},
   "outputs": [
    {
     "name": "stdout",
     "output_type": "stream",
     "text": [
      "Коэффициент простоя утром:  80.00000313869732\n",
      "Коэффициент простоя днем:  0.34598834570852555\n",
      "Коэффициент простоя вечером:  47.633437032376825\n"
     ]
    }
   ],
   "source": [
    "print('Коэффициент простоя утром: ', (1-(intense[0]*(1-ver[14])/intense1[0])/n)*100)\n",
    "print('Коэффициент простоя днем: ', (1-(intense[1]*(1-ver1[14]/100)/intense1[1])/n)*100)\n",
    "print('Коэффициент простоя вечером: ', (1-(intense[2]*(1-ver2[14])/intense1[2])/n)*100)"
   ]
  }
 ],
 "metadata": {
  "kernelspec": {
   "display_name": "Python 3",
   "language": "python",
   "name": "python3"
  },
  "language_info": {
   "codemirror_mode": {
    "name": "ipython",
    "version": 3
   },
   "file_extension": ".py",
   "mimetype": "text/x-python",
   "name": "python",
   "nbconvert_exporter": "python",
   "pygments_lexer": "ipython3",
   "version": "3.8.8"
  }
 },
 "nbformat": 4,
 "nbformat_minor": 5
}
